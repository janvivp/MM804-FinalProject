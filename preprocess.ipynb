{
 "cells": [
  {
   "cell_type": "markdown",
   "metadata": {},
   "source": [
    "SimpleITK based Segmentation"
   ]
  },
  {
   "cell_type": "code",
   "execution_count": 1,
   "metadata": {},
   "outputs": [],
   "source": [
    "import SimpleITK as sitk\n",
    "import numpy as np\n",
    "from helpers import *\n",
    "\n",
    "sample_mri_path = 'MRNet-v1.0/train/coronal/0002.npy'\n",
    "mri_array = np.load(sample_mri_path)"
   ]
  },
  {
   "cell_type": "code",
   "execution_count": 2,
   "metadata": {},
   "outputs": [],
   "source": [
    "mri_image = sitk.GetImageFromArray(mri_array)"
   ]
  },
  {
   "cell_type": "code",
   "execution_count": 3,
   "metadata": {},
   "outputs": [
    {
     "data": {
      "text/plain": [
       "(32, 256, 256)"
      ]
     },
     "execution_count": 3,
     "metadata": {},
     "output_type": "execute_result"
    }
   ],
   "source": [
    "mri_array.shape"
   ]
  },
  {
   "cell_type": "code",
   "execution_count": 4,
   "metadata": {},
   "outputs": [
    {
     "data": {
      "application/vnd.jupyter.widget-view+json": {
       "model_id": "c4b8ef3ba175406a9a3fb3a8bad2340d",
       "version_major": 2,
       "version_minor": 0
      },
      "text/plain": [
       "interactive(children=(IntSlider(value=15, description='SLICE', max=31), Output()), _dom_classes=('widget-inter…"
      ]
     },
     "metadata": {},
     "output_type": "display_data"
    }
   ],
   "source": [
    "explore_3D_array(mri_array)"
   ]
  },
  {
   "cell_type": "code",
   "execution_count": 5,
   "metadata": {},
   "outputs": [],
   "source": [
    "seg = mri_image > 200\n",
    "thresh_img = sitk.LabelOverlay(mri_image, seg)\n",
    "thresh_array = sitk.GetArrayFromImage(thresh_img)"
   ]
  },
  {
   "cell_type": "code",
   "execution_count": 6,
   "metadata": {},
   "outputs": [
    {
     "data": {
      "application/vnd.jupyter.widget-view+json": {
       "model_id": "8317df0a7c024af6b9bd284222224437",
       "version_major": 2,
       "version_minor": 0
      },
      "text/plain": [
       "interactive(children=(IntSlider(value=15, description='SLICE', max=31), Output()), _dom_classes=('widget-inter…"
      ]
     },
     "metadata": {},
     "output_type": "display_data"
    }
   ],
   "source": [
    "explore_3D_array(thresh_array)"
   ]
  },
  {
   "cell_type": "code",
   "execution_count": 7,
   "metadata": {},
   "outputs": [],
   "source": [
    "seg = sitk.BinaryThreshold(mri_image, lowerThreshold=100, upperThreshold=400, insideValue=1, outsideValue=0)\n",
    "thresh_img = sitk.LabelOverlay(mri_image, seg)\n",
    "thresh_array = sitk.GetArrayFromImage(thresh_img)"
   ]
  },
  {
   "cell_type": "code",
   "execution_count": 8,
   "metadata": {},
   "outputs": [
    {
     "data": {
      "application/vnd.jupyter.widget-view+json": {
       "model_id": "16c2971011fb49bfae379dcea0ba2b66",
       "version_major": 2,
       "version_minor": 0
      },
      "text/plain": [
       "interactive(children=(IntSlider(value=15, description='SLICE', max=31), Output()), _dom_classes=('widget-inter…"
      ]
     },
     "metadata": {},
     "output_type": "display_data"
    }
   ],
   "source": [
    "explore_3D_array(thresh_array)"
   ]
  },
  {
   "cell_type": "code",
   "execution_count": 9,
   "metadata": {},
   "outputs": [
    {
     "data": {
      "application/vnd.jupyter.widget-view+json": {
       "model_id": "d582ed8a98cb4604ab678640d1908f00",
       "version_major": 2,
       "version_minor": 0
      },
      "text/plain": [
       "interactive(children=(IntSlider(value=15, description='SLICE', max=31), Output()), _dom_classes=('widget-inter…"
      ]
     },
     "metadata": {},
     "output_type": "display_data"
    },
    {
     "name": "stdout",
     "output_type": "stream",
     "text": [
      "85.0\n"
     ]
    }
   ],
   "source": [
    "otsu_filter = sitk.OtsuThresholdImageFilter()\n",
    "otsu_filter.SetInsideValue(0)\n",
    "otsu_filter.SetOutsideValue(1)\n",
    "seg = otsu_filter.Execute(mri_image)\n",
    "thresh_img = sitk.LabelOverlay(mri_image, seg)\n",
    "thresh_array = sitk.GetArrayFromImage(thresh_img)\n",
    "explore_3D_array(thresh_array)\n",
    "print(otsu_filter.GetThreshold() )"
   ]
  },
  {
   "cell_type": "code",
   "execution_count": 10,
   "metadata": {},
   "outputs": [
    {
     "name": "stdout",
     "output_type": "stream",
     "text": [
      "(32, 256, 256)\n"
     ]
    }
   ],
   "source": [
    "print(mri_array.shape)"
   ]
  },
  {
   "cell_type": "code",
   "execution_count": 11,
   "metadata": {},
   "outputs": [
    {
     "data": {
      "application/vnd.jupyter.widget-view+json": {
       "model_id": "8e0ff9212e0f47d98c08c714b0550711",
       "version_major": 2,
       "version_minor": 0
      },
      "text/plain": [
       "interactive(children=(IntSlider(value=15, description='SLICE', max=31), Output()), _dom_classes=('widget-inter…"
      ]
     },
     "metadata": {},
     "output_type": "display_data"
    }
   ],
   "source": [
    "seed = (128,128,18)\n",
    "seg = sitk.Image(mri_image.GetSize(), sitk.sitkUInt8)\n",
    "seg.CopyInformation(mri_image)\n",
    "seg[seed] = 1\n",
    "seg = sitk.BinaryDilate(seg, (9,9,9))\n",
    "thresh_img = sitk.LabelOverlay(mri_image, seg)\n",
    "thresh_array = sitk.GetArrayFromImage(thresh_img)\n",
    "explore_3D_array(thresh_array)"
   ]
  },
  {
   "cell_type": "code",
   "execution_count": 12,
   "metadata": {},
   "outputs": [
    {
     "data": {
      "application/vnd.jupyter.widget-view+json": {
       "model_id": "b0310ce0b34b46a394cd3e3a2f2d760e",
       "version_major": 2,
       "version_minor": 0
      },
      "text/plain": [
       "interactive(children=(IntSlider(value=15, description='SLICE', max=31), Output()), _dom_classes=('widget-inter…"
      ]
     },
     "metadata": {},
     "output_type": "display_data"
    }
   ],
   "source": [
    "seed = (128,150,18)\n",
    "seg = sitk.ConfidenceConnected(mri_image, seedList=[seed],\n",
    "                                   numberOfIterations=1,\n",
    "                                   multiplier=2.5,\n",
    "                                   initialNeighborhoodRadius=1,\n",
    "                                   replaceValue=1)\n",
    "thresh_img = sitk.LabelOverlay(mri_image, seg)\n",
    "thresh_array = sitk.GetArrayFromImage(thresh_img)\n",
    "explore_3D_array(thresh_array)"
   ]
  },
  {
   "cell_type": "code",
   "execution_count": 13,
   "metadata": {},
   "outputs": [
    {
     "data": {
      "application/vnd.jupyter.widget-view+json": {
       "model_id": "a480cfc35aa141529f091a5e9f0decbe",
       "version_major": 2,
       "version_minor": 0
      },
      "text/plain": [
       "interactive(children=(IntSlider(value=15, description='SLICE', max=31), Output()), _dom_classes=('widget-inter…"
      ]
     },
     "metadata": {},
     "output_type": "display_data"
    }
   ],
   "source": [
    "feature_img = sitk.GradientMagnitudeRecursiveGaussian(mri_image, sigma=.5)\n",
    "speed_img = sitk.BoundedReciprocal(feature_img) # This is parameter free unlike the Sigmoid\n",
    "thresh_array = sitk.GetArrayFromImage(speed_img)\n",
    "explore_3D_array(thresh_array)"
   ]
  },
  {
   "cell_type": "code",
   "execution_count": 14,
   "metadata": {},
   "outputs": [
    {
     "data": {
      "application/vnd.jupyter.widget-view+json": {
       "model_id": "c9cbb15fee724545a2343c7c3db7ad70",
       "version_major": 2,
       "version_minor": 0
      },
      "text/plain": [
       "interactive(children=(IntSlider(value=15, description='SLICE', max=31), Output()), _dom_classes=('widget-inter…"
      ]
     },
     "metadata": {},
     "output_type": "display_data"
    }
   ],
   "source": [
    "fm_filter = sitk.FastMarchingBaseImageFilter()\n",
    "fm_filter.SetTrialPoints([seed])\n",
    "fm_filter.SetStoppingValue(1000)\n",
    "fm_img = fm_filter.Execute(speed_img)\n",
    "thresh_img = sitk.Threshold(fm_img,\n",
    "                    lower=0.0,\n",
    "                    upper=fm_filter.GetStoppingValue(),\n",
    "                    outsideValue=fm_filter.GetStoppingValue()+1)\n",
    "thresh_array = sitk.GetArrayFromImage(thresh_img)\n",
    "explore_3D_array(thresh_array)"
   ]
  },
  {
   "cell_type": "code",
   "execution_count": 15,
   "metadata": {},
   "outputs": [
    {
     "name": "stdout",
     "output_type": "stream",
     "text": [
      "78.5598429607918 225.5295425140685\n"
     ]
    }
   ],
   "source": [
    "seed = (128,128,18)\n",
    "seg = sitk.Image(mri_image.GetSize(), sitk.sitkUInt8)\n",
    "seg.CopyInformation(mri_image)\n",
    "seg[seed] = 1\n",
    "seg = sitk.BinaryDilate(seg, (3,3,3))\n",
    "\n",
    "stats = sitk.LabelStatisticsImageFilter()\n",
    "stats.Execute(mri_image, seg)\n",
    "\n",
    "factor = 3.5\n",
    "lower_threshold = stats.GetMean(1)-factor*stats.GetSigma(1)\n",
    "upper_threshold = stats.GetMean(1)+factor*stats.GetSigma(1)\n",
    "print(lower_threshold,upper_threshold)"
   ]
  },
  {
   "cell_type": "code",
   "execution_count": 16,
   "metadata": {},
   "outputs": [],
   "source": [
    "init_ls = sitk.SignedMaurerDistanceMap(seg, insideIsPositive=True, useImageSpacing=True)\n"
   ]
  },
  {
   "cell_type": "code",
   "execution_count": 17,
   "metadata": {},
   "outputs": [
    {
     "name": "stdout",
     "output_type": "stream",
     "text": [
      "itk::simple::ThresholdSegmentationLevelSetImageFilter\n",
      "  LowerThreshold: 78.5598\n",
      "  UpperThreshold: 225.53\n",
      "  MaximumRMSError: 0.02\n",
      "  PropagationScaling: 1\n",
      "  CurvatureScaling: 0.5\n",
      "  NumberOfIterations: 1000\n",
      "  ReverseExpansionDirection: 1\n",
      "  ElapsedIterations: 940\n",
      "  RMSChange: 0.0198485\n",
      "  Debug: 0\n",
      "  NumberOfThreads: 8\n",
      "  NumberOfWorkUnits: 0\n",
      "  Commands: (none)\n",
      "  ProgressMeasurement: 0.94\n",
      "  ActiveProcess: (none)\n",
      "\n"
     ]
    }
   ],
   "source": [
    "lsFilter = sitk.ThresholdSegmentationLevelSetImageFilter()\n",
    "lsFilter.SetLowerThreshold(lower_threshold)\n",
    "lsFilter.SetUpperThreshold(upper_threshold)\n",
    "lsFilter.SetMaximumRMSError(0.02)\n",
    "lsFilter.SetNumberOfIterations(1000)\n",
    "lsFilter.SetCurvatureScaling(.5)\n",
    "lsFilter.SetPropagationScaling(1)\n",
    "lsFilter.ReverseExpansionDirectionOn()\n",
    "ls = lsFilter.Execute(init_ls, sitk.Cast(mri_image, sitk.sitkFloat32))\n",
    "print(lsFilter)"
   ]
  },
  {
   "cell_type": "code",
   "execution_count": 18,
   "metadata": {},
   "outputs": [
    {
     "data": {
      "application/vnd.jupyter.widget-view+json": {
       "model_id": "31829c53f1d4420faf831bcba1b390fd",
       "version_major": 2,
       "version_minor": 0
      },
      "text/plain": [
       "interactive(children=(IntSlider(value=15, description='SLICE', max=31), Output()), _dom_classes=('widget-inter…"
      ]
     },
     "metadata": {},
     "output_type": "display_data"
    }
   ],
   "source": [
    "thresh_img = sitk.LabelOverlay(mri_image, ls>0)\n",
    "thresh_array = sitk.GetArrayFromImage(thresh_img)\n",
    "explore_3D_array(thresh_array)"
   ]
  },
  {
   "cell_type": "code",
   "execution_count": null,
   "metadata": {},
   "outputs": [],
   "source": []
  }
 ],
 "metadata": {
  "kernelspec": {
   "display_name": "Python 3",
   "language": "python",
   "name": "python3"
  },
  "language_info": {
   "codemirror_mode": {
    "name": "ipython",
    "version": 3
   },
   "file_extension": ".py",
   "mimetype": "text/x-python",
   "name": "python",
   "nbconvert_exporter": "python",
   "pygments_lexer": "ipython3",
   "version": "3.12.1"
  }
 },
 "nbformat": 4,
 "nbformat_minor": 2
}
